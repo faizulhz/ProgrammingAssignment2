{
  "nbformat": 4,
  "nbformat_minor": 0,
  "metadata": {
    "colab": {
      "provenance": [],
      "authorship_tag": "ABX9TyOV7dWIGW4FOd7d/gbcb9fQ",
      "include_colab_link": true
    },
    "kernelspec": {
      "name": "python3",
      "display_name": "Python 3"
    },
    "language_info": {
      "name": "python"
    }
  },
  "cells": [
    {
      "cell_type": "markdown",
      "metadata": {
        "id": "view-in-github",
        "colab_type": "text"
      },
      "source": [
        "<a href=\"https://colab.research.google.com/github/faizulhz/ProgrammingAssignment2/blob/master/list.ipynb\" target=\"_parent\"><img src=\"https://colab.research.google.com/assets/colab-badge.svg\" alt=\"Open In Colab\"/></a>"
      ]
    },
    {
      "cell_type": "code",
      "execution_count": 4,
      "metadata": {
        "colab": {
          "base_uri": "https://localhost:8080/"
        },
        "id": "gUlXz0QesHM7",
        "outputId": "a18a3300-f7e9-4ef0-fcb2-3f081ea5f857"
      },
      "outputs": [
        {
          "output_type": "stream",
          "name": "stdout",
          "text": [
            "['a', 'b', 'c', 1]\n",
            "[3, 2, 1]\n",
            "[10, {'a': 2}, 'b', 'c', 1]\n",
            "10\n",
            "{'a': 2}\n",
            "b\n",
            "c\n",
            "1\n",
            "yes\n",
            "[1, 'c', 'b', {'a': 2}, 10]\n",
            "[1, 2, 3]\n",
            "[10, {'a': 2}, 'b']\n",
            "[1, 4, 9, 16, 25, 36, 49]\n"
          ]
        }
      ],
      "source": [
        "\n",
        "#ordered mutable duplicate\n",
        "a=['a','b','c']\n",
        "c=list()\n",
        "a.append(1)\n",
        "c.append(3)\n",
        "c.append(2)\n",
        "c.append(1)\n",
        "b=a[::-1]\n",
        "print(a)\n",
        "print(c)\n",
        "a[0]=10\n",
        "a.insert(1,{\"a\":2})\n",
        "print(a)\n",
        "\n",
        "for i in a:\n",
        "    print(i)\n",
        "\n",
        "if 10 in a:\n",
        "   print(\"yes\")\n",
        "else:\n",
        "  print(\"no\")\n",
        "# reverser and sort in place.......\n",
        "a.reverse()\n",
        "print(a)\n",
        "#a.sort() only sort same type arrary\n",
        "c.sort()\n",
        "print(c)\n",
        "b=a[1:4:2]\n",
        "b=a[4:1:-1] #can;t do [1: 4: -1] will return empty\n",
        "print(b)\n",
        "\n",
        "\n",
        "c=a # if i modify c a will be modified have to make a cppty\n",
        "\n",
        "c=a[:]\n",
        "c=a.copy()\n",
        "c=list()\n",
        "\n",
        "#list comprehention\n",
        "a=[1,2,3,4,5,6,7]\n",
        "b=[i*i for i in a]\n",
        "print(b)"
      ]
    },
    {
      "cell_type": "code",
      "source": [],
      "metadata": {
        "id": "TThGX2-S7B5Y"
      },
      "execution_count": null,
      "outputs": []
    }
  ]
}