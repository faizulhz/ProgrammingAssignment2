{
  "cells": [
    {
      "cell_type": "markdown",
      "metadata": {
        "id": "view-in-github",
        "colab_type": "text"
      },
      "source": [
        "<a href=\"https://colab.research.google.com/github/faizulhz/ProgrammingAssignment2/blob/master/res.ipynb\" target=\"_parent\"><img src=\"https://colab.research.google.com/assets/colab-badge.svg\" alt=\"Open In Colab\"/></a>"
      ]
    },
    {
      "cell_type": "code",
      "execution_count": null,
      "id": "3c71c851",
      "metadata": {
        "id": "3c71c851",
        "outputId": "12c72f48-e063-45bc-9f26-158a72fcc1db"
      },
      "outputs": [
        {
          "name": "stdout",
          "output_type": "stream",
          "text": [
            "None\n",
            "<re.Match object; span=(0, 5), match='hello'>\n"
          ]
        }
      ],
      "source": [
        "import re\n",
        "result= re.match(\"and\",\"hello and\")\n",
        "print(result)\n",
        "result= re.match(\"hello\",\"hello rand and cand\")\n",
        "print(result)"
      ]
    },
    {
      "cell_type": "code",
      "execution_count": null,
      "id": "43fda2e1",
      "metadata": {
        "id": "43fda2e1",
        "outputId": "d59005ad-2074-4bd4-d511-02aae314da7c"
      },
      "outputs": [
        {
          "name": "stdout",
          "output_type": "stream",
          "text": [
            "<re.Match object; span=(7, 10), match='and'>\n"
          ]
        }
      ],
      "source": [
        "\n",
        "result= re.search(\"and\",\"hello rand cand and\")\n",
        "print(result)"
      ]
    },
    {
      "cell_type": "code",
      "execution_count": null,
      "id": "4fcd4daa",
      "metadata": {
        "id": "4fcd4daa",
        "outputId": "f73fa0be-7dac-49f9-ebce-3a62f7e82300"
      },
      "outputs": [
        {
          "name": "stdout",
          "output_type": "stream",
          "text": [
            "['and', 'and', 'and']\n"
          ]
        }
      ],
      "source": [
        "result= re.findall(\"and\",\"hello and rand cand\")\n",
        "print(result)"
      ]
    },
    {
      "cell_type": "code",
      "execution_count": null,
      "id": "280a7bcd",
      "metadata": {
        "id": "280a7bcd",
        "outputId": "edcd4438-17fb-4983-b9af-c352f8982b91"
      },
      "outputs": [
        {
          "name": "stdout",
          "output_type": "stream",
          "text": [
            "[]\n"
          ]
        }
      ],
      "source": [
        "str = r'Analytics Vidhya is the largest Analytics community of India'\n",
        "\n",
        "#Check if there is any word that ends with \"est\"\n",
        "\n",
        "x = re.findall(r\"est\\b\", str)\n",
        "print(x)"
      ]
    },
    {
      "cell_type": "code",
      "execution_count": null,
      "id": "d0fbf894",
      "metadata": {
        "id": "d0fbf894",
        "outputId": "8fe3f38d-6c07-4acd-8fb5-14252f9c4aa4"
      },
      "outputs": [
        {
          "name": "stdout",
          "output_type": "stream",
          "text": [
            "['est', 'est']\n"
          ]
        }
      ],
      "source": [
        "\n",
        "str = r'Analytics Vidhestya is the largest Analytics est community of India'\n",
        "\n",
        "#Check if there is any word that ends with \"est\"\n",
        "\n",
        "x = re.findall(r\"est\\b\", str)\n",
        "print(x)"
      ]
    },
    {
      "cell_type": "code",
      "execution_count": null,
      "id": "e9b8fa33",
      "metadata": {
        "id": "e9b8fa33",
        "outputId": "a50b9dc2-dc3b-4077-c214-ed31f1950300"
      },
      "outputs": [
        {
          "name": "stdout",
          "output_type": "stream",
          "text": [
            "[' ', 'm', 'i', 'l', 'l', 'i', 'o', 'n', ' ', 'm', 'o', 'n', 't', 'h', 'l', 'y', ' ', 'v', 'i', 's', 'i', 't', 's', ' ', 'i', 'n', ' ', 'J', 'a', 'n', \"'\", '.']\n"
          ]
        }
      ],
      "source": [
        "str = \"2 million monthly visits in Jan'19.\"\n",
        "\n",
        "#Check if the word character does not contain any digits (numbers from 0-9):\n",
        "\n",
        "x = re.findall(\"\\D\", str)\n",
        "print(x)\n"
      ]
    },
    {
      "cell_type": "code",
      "execution_count": null,
      "id": "ef859acd",
      "metadata": {
        "id": "ef859acd",
        "outputId": "5c5c45a4-2795-4ff9-e2bd-4da490ff7cbd"
      },
      "outputs": [
        {
          "name": "stdout",
          "output_type": "stream",
          "text": [
            "['2', 'million', 'monthly', 'visits']\n"
          ]
        }
      ],
      "source": [
        "str = \"2 million monthly visits!\"\n",
        "\n",
        "#returns a match at every word character (characters from a to Z, digits from 0-9, and the underscore _ character)\n",
        "\n",
        "x = re.findall(\"\\w+\",str)\n",
        "print(x)\n"
      ]
    },
    {
      "cell_type": "code",
      "execution_count": null,
      "id": "50739790",
      "metadata": {
        "id": "50739790",
        "outputId": "6cffa43e-893a-4c32-f6cb-019f9fddce98"
      },
      "outputs": [
        {
          "name": "stdout",
          "output_type": "stream",
          "text": [
            "[' ', ' ', ' ', '!']\n"
          ]
        }
      ],
      "source": [
        "str = \"2 million monthly visits9!\"\n",
        "\n",
        "#returns a match at every NON word character (characters NOT between a and Z. Like \"!\", \"?\" white-space etc.):\n",
        "\n",
        "x = re.findall(\"\\W\", str)\n",
        "print(x)"
      ]
    },
    {
      "cell_type": "code",
      "execution_count": null,
      "id": "c2d97194",
      "metadata": {
        "id": "c2d97194",
        "outputId": "c013198a-7f25-4bd4-f3f7-8c58741d65be"
      },
      "outputs": [
        {
          "name": "stdout",
          "output_type": "stream",
          "text": [
            "['roh', 'roh']\n",
            "['rohan', 'rohit']\n"
          ]
        }
      ],
      "source": [
        "str = \"rohan and rohit recently published a research paper!\"\n",
        "\n",
        "#Search for a string that starts with \"ro\", followed by any number of characters\n",
        "\n",
        "x = re.findall(\"ro.\", str)           #searches one character after ro\n",
        "x2 = re.findall(\"ro...\", str)        #searches three characters after ro\n",
        "\n",
        "print(x)\n",
        "print(x2)"
      ]
    },
    {
      "cell_type": "code",
      "execution_count": null,
      "id": "75d5beb0",
      "metadata": {
        "id": "75d5beb0"
      },
      "outputs": [],
      "source": [
        "str = \"Data Science\"\n",
        "\n",
        "#Check if the string starts with 'Data':\n",
        "\n",
        "x = re.findall(\"^Data\", str)\n",
        "print(x)"
      ]
    }
  ],
  "metadata": {
    "kernelspec": {
      "display_name": "Python 3 (ipykernel)",
      "language": "python",
      "name": "python3"
    },
    "language_info": {
      "codemirror_mode": {
        "name": "ipython",
        "version": 3
      },
      "file_extension": ".py",
      "mimetype": "text/x-python",
      "name": "python",
      "nbconvert_exporter": "python",
      "pygments_lexer": "ipython3",
      "version": "3.10.9"
    },
    "colab": {
      "provenance": [],
      "include_colab_link": true
    }
  },
  "nbformat": 4,
  "nbformat_minor": 5
}