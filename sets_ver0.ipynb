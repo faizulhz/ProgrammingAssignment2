{
  "nbformat": 4,
  "nbformat_minor": 0,
  "metadata": {
    "colab": {
      "provenance": [],
      "authorship_tag": "ABX9TyNlyb9eX1me+Rglj/0Zbjzc",
      "include_colab_link": true
    },
    "kernelspec": {
      "name": "python3",
      "display_name": "Python 3"
    },
    "language_info": {
      "name": "python"
    }
  },
  "cells": [
    {
      "cell_type": "markdown",
      "metadata": {
        "id": "view-in-github",
        "colab_type": "text"
      },
      "source": [
        "<a href=\"https://colab.research.google.com/github/faizulhz/ProgrammingAssignment2/blob/master/sets_ver0.ipynb\" target=\"_parent\"><img src=\"https://colab.research.google.com/assets/colab-badge.svg\" alt=\"Open In Colab\"/></a>"
      ]
    },
    {
      "cell_type": "code",
      "execution_count": 10,
      "metadata": {
        "colab": {
          "base_uri": "https://localhost:8080/"
        },
        "id": "4PWlT03W6QgZ",
        "outputId": "6cb26489-2afe-46fb-cdb8-64fcefb3d20e"
      },
      "outputs": [
        {
          "output_type": "stream",
          "name": "stdout",
          "text": [
            "{1, 2, 3, 4}\n",
            "{'o', 'l', 'h', 'e'}\n",
            "{'hello'}\n",
            "{2, 'l', 'h', 'o', 'r', 'e'}\n",
            "2\n",
            "l\n",
            "o\n",
            "r\n",
            "e\n",
            "present\n"
          ]
        }
      ],
      "source": [
        "#set urordered mutable no duplicate\n",
        "a={ 1, 1, 2, 3, 4}\n",
        "print(a)\n",
        "b=set(\"hello\")\n",
        "print(b)\n",
        "c={\"hello\",}\n",
        "print(c)\n",
        "b.add(2)\n",
        "b.add('r')\n",
        "print(b)\n",
        "b.remove('h') #error if not present\n",
        "b.discard('q')\n",
        "for x in b:\n",
        "   print(x)\n",
        "if 1 in a:\n",
        "   print(\"present\")\n",
        "  #intersection union differnce."
      ]
    }
  ]
}