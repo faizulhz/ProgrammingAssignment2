{
  "nbformat": 4,
  "nbformat_minor": 0,
  "metadata": {
    "colab": {
      "provenance": [],
      "authorship_tag": "ABX9TyO2QAPg9ZL7nCjAdK31JzqD",
      "include_colab_link": true
    },
    "kernelspec": {
      "name": "python3",
      "display_name": "Python 3"
    },
    "language_info": {
      "name": "python"
    }
  },
  "cells": [
    {
      "cell_type": "markdown",
      "metadata": {
        "id": "view-in-github",
        "colab_type": "text"
      },
      "source": [
        "<a href=\"https://colab.research.google.com/github/faizulhz/ProgrammingAssignment2/blob/master/ADABOOST.ipynb\" target=\"_parent\"><img src=\"https://colab.research.google.com/assets/colab-badge.svg\" alt=\"Open In Colab\"/></a>"
      ]
    },
    {
      "cell_type": "code",
      "execution_count": null,
      "metadata": {
        "colab": {
          "base_uri": "https://localhost:8080/"
        },
        "id": "hcaCJ-OJ-_H6",
        "outputId": "ad12356c-7827-433c-ee24-d9c0179d3fdb"
      },
      "outputs": [
        {
          "output_type": "stream",
          "name": "stdout",
          "text": [
            "Boosting Accuracy: 0.9666666666666667\n",
            "Boosting Confusion Matrix:\n",
            "[[23  0  0]\n",
            " [ 0 18  1]\n",
            " [ 0  1 17]]\n"
          ]
        }
      ],
      "source": [
        "import numpy as np\n",
        "import pandas as pd\n",
        "from sklearn.ensemble import AdaBoostClassifier\n",
        "from sklearn.tree import DecisionTreeClassifier\n",
        "from sklearn.model_selection import train_test_split\n",
        "from sklearn.metrics import accuracy_score, confusion_matrix\n",
        "from sklearn.datasets import load_iris\n",
        "\n",
        "\n",
        "iris = load_iris()\n",
        "X = iris.data\n",
        "y = iris.target\n",
        "\n",
        "\n",
        "X_train, X_test, y_train, y_test = train_test_split(X, y, test_size=0.4, random_state=42)\n",
        "\n",
        "\n",
        "base_classifier = DecisionTreeClassifier(max_depth=1)\n",
        "\n",
        "\n",
        "boosting_clf = AdaBoostClassifier(base_classifier, n_estimators=5, random_state=42)\n",
        "\n",
        "\n",
        "boosting_clf.fit(X_train, y_train)\n",
        "\n",
        "\n",
        "y_pred = boosting_clf.predict(X_test)\n",
        "\n",
        "\n",
        "accuracy = accuracy_score(y_test, y_pred)\n",
        "conf_matrix = confusion_matrix(y_test, y_pred)\n",
        "print(f'Boosting Accuracy: {accuracy}')\n",
        "print('Boosting Confusion Matrix:')\n",
        "print(conf_matrix)\n"
      ]
    }
  ]
}