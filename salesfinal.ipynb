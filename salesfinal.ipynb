{
  "nbformat": 4,
  "nbformat_minor": 0,
  "metadata": {
    "colab": {
      "name": "Untitled16.ipynb",
      "provenance": [],
      "collapsed_sections": [],
      "authorship_tag": "ABX9TyPFChdZUwt02Mwf/xgcw8od",
      "include_colab_link": true
    },
    "kernelspec": {
      "name": "python3",
      "display_name": "Python 3"
    },
    "language_info": {
      "name": "python"
    }
  },
  "cells": [
    {
      "cell_type": "markdown",
      "metadata": {
        "id": "view-in-github",
        "colab_type": "text"
      },
      "source": [
        "<a href=\"https://colab.research.google.com/github/faizulhz/ProgrammingAssignment2/blob/master/salesfinal.ipynb\" target=\"_parent\"><img src=\"https://colab.research.google.com/assets/colab-badge.svg\" alt=\"Open In Colab\"/></a>"
      ]
    },
    {
      "cell_type": "code",
      "execution_count": 12,
      "metadata": {
        "colab": {
          "base_uri": "https://localhost:8080/"
        },
        "id": "iqEwiozr209l",
        "outputId": "3d97e4a3-e532-45af-c208-584fbb0208c6"
      },
      "outputs": [
        {
          "output_type": "stream",
          "name": "stdout",
          "text": [
            "(200, 5)\n",
            "      TV  Radio  Newspaper\n",
            "0  230.1   37.8       69.2\n",
            "1   44.5   39.3       45.1\n",
            "2   17.2   45.9       69.3\n",
            "3  151.5   41.3       58.5\n",
            "4  180.8   10.8       58.4\n",
            "   Sales\n",
            "0   22.1\n",
            "1   10.4\n",
            "2    9.3\n",
            "3   18.5\n",
            "4   12.9\n",
            "0.9182236845802632\n"
          ]
        }
      ],
      "source": [
        "import pandas as pd\n",
        "from sklearn.model_selection import train_test_split\n",
        "a=pd.read_csv(\"Adv.csv\")\n",
        "a.head()\n",
        "print(a.shape)\n",
        "\n",
        "X=a[['TV','Radio','Newspaper']]\n",
        "Y=a[['Sales']]\n",
        "xtr,xts,ytr,yts =train_test_split(X,Y,test_size=0.2)\n",
        "print(X.head())\n",
        "print(Y.head())\n",
        "from sklearn.linear_model import LinearRegression\n",
        "pmodel = LinearRegression()\n",
        "pmodel.fit(xtr,ytr)\n",
        "y=pmodel.predict(xts)\n",
        "print(pmodel.score(xts,yts))\n"
      ]
    }
  ]
}