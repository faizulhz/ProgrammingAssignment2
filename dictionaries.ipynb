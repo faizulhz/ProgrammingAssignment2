{
  "nbformat": 4,
  "nbformat_minor": 0,
  "metadata": {
    "colab": {
      "provenance": [],
      "authorship_tag": "ABX9TyP2VrVdbl+T+3WRTdaN+JwB",
      "include_colab_link": true
    },
    "kernelspec": {
      "name": "python3",
      "display_name": "Python 3"
    },
    "language_info": {
      "name": "python"
    }
  },
  "cells": [
    {
      "cell_type": "markdown",
      "metadata": {
        "id": "view-in-github",
        "colab_type": "text"
      },
      "source": [
        "<a href=\"https://colab.research.google.com/github/faizulhz/ProgrammingAssignment2/blob/master/dictionaries.ipynb\" target=\"_parent\"><img src=\"https://colab.research.google.com/assets/colab-badge.svg\" alt=\"Open In Colab\"/></a>"
      ]
    },
    {
      "cell_type": "code",
      "execution_count": 13,
      "metadata": {
        "colab": {
          "base_uri": "https://localhost:8080/"
        },
        "id": "qf0MyhkDfrzK",
        "outputId": "6fc4ca3d-6cb8-4134-aa48-2d0cc87cb54a"
      },
      "outputs": [
        {
          "output_type": "stream",
          "name": "stdout",
          "text": [
            "{'A': 1, 'b': 3}\n",
            "{'A': 1, 'b': 33}\n",
            "1\n",
            "{'A': 1, 'b': 33, 'email': 'faiz@euler.mcs.utulsa.edu'}\n",
            "{'A': 1, 'b': 20202, 'email': 'faiz@euler.mcs.utulsa.edu'}\n"
          ]
        }
      ],
      "source": [
        "# dictionarieskey value unodered mutable\n",
        "\n",
        "\n",
        "a={\"A\":1,\"b\":3}\n",
        "b=dict(A=1,b=33) # no quoted for keys\n",
        "\n",
        "c= a['A'] # MSUT BE IN QUOTES\n",
        "print(a)\n",
        "print(b)\n",
        "print(c)\n",
        "b['email']='faiz@euler.mcs.utulsa.edu'\n",
        "print(b)\n",
        "b['b']=20202\n",
        "print(b)\n"
      ]
    },
    {
      "cell_type": "code",
      "source": [
        "del b['b']\n",
        "print(b)\n",
        "b.pop('email')\n",
        "print(b)\n",
        "b=dict(A=1,b=33) # no quoted for keys\n",
        "b.popitem() #last item pop\n",
        "print(b)"
      ],
      "metadata": {
        "colab": {
          "base_uri": "https://localhost:8080/"
        },
        "id": "t0K8i8btiHWH",
        "outputId": "ba82e696-ff73-4a0f-faad-583ee697104b"
      },
      "execution_count": 14,
      "outputs": [
        {
          "output_type": "stream",
          "name": "stdout",
          "text": [
            "{'A': 1, 'email': 'faiz@euler.mcs.utulsa.edu'}\n",
            "{'A': 1}\n",
            "{'A': 1}\n"
          ]
        }
      ]
    },
    {
      "cell_type": "code",
      "source": [
        "if 'A' in b:\n",
        "  print(\"present\")\n",
        "  print(b['A'])\n",
        "\n",
        "try:\n",
        "  print(b[\"hello\"])\n",
        "except:\n",
        "  print(\"error\")"
      ],
      "metadata": {
        "colab": {
          "base_uri": "https://localhost:8080/"
        },
        "id": "KMsrLAv7jhm6",
        "outputId": "5a63d858-98fb-4cc9-d785-de71aa5962e6"
      },
      "execution_count": 15,
      "outputs": [
        {
          "output_type": "stream",
          "name": "stdout",
          "text": [
            "present\n",
            "1\n",
            "error\n"
          ]
        }
      ]
    },
    {
      "cell_type": "code",
      "source": [
        "for v in a:\n",
        "  print(v)\n",
        "  print(a[v])\n",
        "\n",
        "for k in a.keys():\n",
        "   print(k)\n",
        "\n",
        "for v in a.values():\n",
        "   print(v)\n",
        "\n",
        "for k , v in a.items():\n",
        "   print(k,v)"
      ],
      "metadata": {
        "colab": {
          "base_uri": "https://localhost:8080/"
        },
        "id": "D1Un09qo1O8n",
        "outputId": "d87c57a0-a399-483e-e7ad-a73224183f78"
      },
      "execution_count": 19,
      "outputs": [
        {
          "output_type": "stream",
          "name": "stdout",
          "text": [
            "A\n",
            "1\n",
            "b\n",
            "3\n",
            "A\n",
            "b\n",
            "1\n",
            "3\n",
            "A 1\n",
            "b 3\n"
          ]
        }
      ]
    },
    {
      "cell_type": "code",
      "source": [
        "# if we copy and change copy original will be changed\n",
        "\n",
        "k=a.copy()\n",
        "e=dict(a)\n",
        "\n",
        "lk= {1:2,2:3,(1,1):3}\n",
        "print(lk[2])\n"
      ],
      "metadata": {
        "colab": {
          "base_uri": "https://localhost:8080/"
        },
        "id": "nFLzi7Ze39L8",
        "outputId": "bc6f6df5-bf18-4ed7-8f7f-efffb3cf7cea"
      },
      "execution_count": 21,
      "outputs": [
        {
          "output_type": "stream",
          "name": "stdout",
          "text": [
            "3\n"
          ]
        }
      ]
    }
  ]
}