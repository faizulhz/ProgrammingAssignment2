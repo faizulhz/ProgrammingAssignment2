{
  "nbformat": 4,
  "nbformat_minor": 0,
  "metadata": {
    "colab": {
      "provenance": [],
      "authorship_tag": "ABX9TyPrFLFAQe0ZOa0U+q/0tMLN",
      "include_colab_link": true
    },
    "kernelspec": {
      "name": "python3",
      "display_name": "Python 3"
    },
    "language_info": {
      "name": "python"
    }
  },
  "cells": [
    {
      "cell_type": "markdown",
      "metadata": {
        "id": "view-in-github",
        "colab_type": "text"
      },
      "source": [
        "<a href=\"https://colab.research.google.com/github/faizulhz/ProgrammingAssignment2/blob/master/setfinal.ipynb\" target=\"_parent\"><img src=\"https://colab.research.google.com/assets/colab-badge.svg\" alt=\"Open In Colab\"/></a>"
      ]
    },
    {
      "cell_type": "code",
      "execution_count": 4,
      "metadata": {
        "colab": {
          "base_uri": "https://localhost:8080/"
        },
        "id": "4PWlT03W6QgZ",
        "outputId": "1e2e5090-fa34-4e2f-e903-70ed487b494b"
      },
      "outputs": [
        {
          "output_type": "stream",
          "name": "stdout",
          "text": [
            "{1, 2, 3, 4}\n",
            "{'o', 'l', 'e', 'h'}\n",
            "{'hello'}\n",
            "{2, 'e', 'l', 'o', 'h', 'r'}\n",
            "2\n",
            "e\n",
            "l\n",
            "o\n",
            "r\n",
            "present\n",
            "{1, 2, 3, 4, 'e', 'l', 'o', 'r'}\n",
            "{1, 2, 3, 4}\n",
            "{2, 'e', 'l', 'o', 'r'}\n",
            "{1, 2, 3, 4}\n",
            "{'o', 'l', 'e', 'r'}\n"
          ]
        }
      ],
      "source": [
        "#set urordered mutable no duplicate\n",
        "a={ 1, 1, 2, 3, 4}\n",
        "print(a)\n",
        "b=set(\"hello\")\n",
        "print(b)\n",
        "c={\"hello\",}\n",
        "print(c)\n",
        "b.add(2)\n",
        "b.add('r')\n",
        "print(b)\n",
        "b.remove('h') #error if not present\n",
        "b.discard('q')\n",
        "for x in b:\n",
        "   print(x)\n",
        "if 1 in a:\n",
        "   print(\"present\")\n",
        "  #intersection union differnce.\n",
        "c=a.union(b)\n",
        "print(c)\n",
        "print(a)\n",
        "print(b)\n",
        "d=c.intersection(a)\n",
        "print(d)\n",
        "d=c.difference(a)\n",
        "print(d)"
      ]
    }
  ]
}