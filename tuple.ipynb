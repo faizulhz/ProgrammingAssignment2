{
  "nbformat": 4,
  "nbformat_minor": 0,
  "metadata": {
    "colab": {
      "provenance": [],
      "authorship_tag": "ABX9TyMjpibPKQL80tl+2du6dGDk",
      "include_colab_link": true
    },
    "kernelspec": {
      "name": "python3",
      "display_name": "Python 3"
    },
    "language_info": {
      "name": "python"
    }
  },
  "cells": [
    {
      "cell_type": "markdown",
      "metadata": {
        "id": "view-in-github",
        "colab_type": "text"
      },
      "source": [
        "<a href=\"https://colab.research.google.com/github/faizulhz/ProgrammingAssignment2/blob/master/tuple.ipynb\" target=\"_parent\"><img src=\"https://colab.research.google.com/assets/colab-badge.svg\" alt=\"Open In Colab\"/></a>"
      ]
    },
    {
      "cell_type": "code",
      "execution_count": null,
      "metadata": {
        "colab": {
          "base_uri": "https://localhost:8080/"
        },
        "id": "LA1F_RnsJcd4",
        "outputId": "111aa77f-8113-439b-a5fe-34c6cc92f0e8"
      },
      "outputs": [
        {
          "output_type": "stream",
          "name": "stdout",
          "text": [
            "('manz', 22, 'hello')\n",
            "('manz', 22, 'hello')\n",
            "('manz', 22, 'hello')\n",
            "(22,)\n",
            "yes\n",
            "1\n",
            "2\n",
            "('hello', 22, 'manz')\n",
            "manz 22 hello\n",
            "manz [22, 'hello']\n"
          ]
        }
      ],
      "source": [
        "# ordered, immutable, allow duplicates\n",
        "a=(\"manz\",22,\"hello\")\n",
        "print(a)\n",
        "b=\"manz\",22,\"hello\"\n",
        "print(b)\n",
        "c=tuple([\"manz\",22,\"hello\"])\n",
        "print(c)\n",
        "print(c[1:2])\n",
        "if 22 in b:\n",
        "   print(\"yes\")\n",
        "\n",
        "print(a.count(22))\n",
        "print(a.index(\"hello\"))\n",
        "print(c[::-1])\n",
        "#unpacking\n",
        "x,y,z=a\n",
        "print(x,y,z)\n",
        "x,*y=a\n",
        "print(x,y)"
      ]
    }
  ]
}