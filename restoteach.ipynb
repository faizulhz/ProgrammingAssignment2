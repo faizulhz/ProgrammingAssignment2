{
  "cells": [
    {
      "cell_type": "markdown",
      "metadata": {
        "id": "view-in-github",
        "colab_type": "text"
      },
      "source": [
        "<a href=\"https://colab.research.google.com/github/faizulhz/ProgrammingAssignment2/blob/master/restoteach.ipynb\" target=\"_parent\"><img src=\"https://colab.research.google.com/assets/colab-badge.svg\" alt=\"Open In Colab\"/></a>"
      ]
    },
    {
      "cell_type": "code",
      "execution_count": 29,
      "id": "3c71c851",
      "metadata": {
        "colab": {
          "base_uri": "https://localhost:8080/"
        },
        "id": "3c71c851",
        "outputId": "12c9fe19-8156-493c-f49a-824daff2d85e"
      },
      "outputs": [
        {
          "output_type": "stream",
          "name": "stdout",
          "text": [
            "None\n",
            "<re.Match object; span=(0, 5), match='hello'>\n"
          ]
        }
      ],
      "source": [
        "import re\n",
        "result= re.match(\"and\",\"hello and\")\n",
        "print(result)\n",
        "result= re.match(\"hello\",\"hello rand and cand\")\n",
        "print(result)"
      ]
    },
    {
      "cell_type": "code",
      "execution_count": 30,
      "id": "43fda2e1",
      "metadata": {
        "colab": {
          "base_uri": "https://localhost:8080/"
        },
        "id": "43fda2e1",
        "outputId": "f9bb01a2-4f60-45eb-b830-fdf417586e23"
      },
      "outputs": [
        {
          "output_type": "stream",
          "name": "stdout",
          "text": [
            "<re.Match object; span=(7, 10), match='and'>\n"
          ]
        }
      ],
      "source": [
        "\n",
        "result= re.search(\"and\",\"hello rand cand and\")\n",
        "print(result)"
      ]
    },
    {
      "cell_type": "code",
      "execution_count": 31,
      "id": "4fcd4daa",
      "metadata": {
        "colab": {
          "base_uri": "https://localhost:8080/"
        },
        "id": "4fcd4daa",
        "outputId": "f6569810-d024-474c-b0ae-905c65266b67"
      },
      "outputs": [
        {
          "output_type": "stream",
          "name": "stdout",
          "text": [
            "['and', 'and', 'and']\n"
          ]
        }
      ],
      "source": [
        "result= re.findall(\"and\",\"hello and rand cand\")\n",
        "print(result)"
      ]
    },
    {
      "cell_type": "code",
      "execution_count": 32,
      "id": "280a7bcd",
      "metadata": {
        "colab": {
          "base_uri": "https://localhost:8080/"
        },
        "id": "280a7bcd",
        "outputId": "57800d2f-9fa3-430e-c7ae-5a5e0acf9833"
      },
      "outputs": [
        {
          "output_type": "stream",
          "name": "stdout",
          "text": [
            "['is', 'is', 'is', 'is']\n"
          ]
        }
      ],
      "source": [
        "str = r'\"Pakistan is a islamic and developing nation and islamabad is capital.'\n",
        "\n",
        "#Check if there is any word that ends with \"est\"\n",
        "\n",
        "x = re.findall(r\"\\bis\", str)\n",
        "print(x)"
      ]
    },
    {
      "cell_type": "code",
      "execution_count": 33,
      "id": "d0fbf894",
      "metadata": {
        "colab": {
          "base_uri": "https://localhost:8080/"
        },
        "id": "d0fbf894",
        "outputId": "70d0d559-723a-4a82-87cf-4c0d879f736a"
      },
      "outputs": [
        {
          "output_type": "stream",
          "name": "stdout",
          "text": [
            "['n', 'n']\n"
          ]
        }
      ],
      "source": [
        "\n",
        "str = r'\"Pakistan is a islamic and developing nation and islamabad is capital.'\n",
        "\n",
        "#Check if there is any word that ends with \"est\"\n",
        "\n",
        "x = re.findall(r\"n\\b\", str)\n",
        "print(x)"
      ]
    },
    {
      "cell_type": "code",
      "execution_count": 34,
      "id": "e9b8fa33",
      "metadata": {
        "colab": {
          "base_uri": "https://localhost:8080/"
        },
        "id": "e9b8fa33",
        "outputId": "c12c6cfa-60e6-467b-ea83-c2e725360ef3"
      },
      "outputs": [
        {
          "output_type": "stream",
          "name": "stdout",
          "text": [
            "[' ', 'm', 'i', 'l', 'l', 'i', 'o', 'n', ' ', 'm', 'o', 'n', 't', 'h', 'l', 'y', ' ', 'v', 'i', 's', 'i', 't', 's', ' ', 'i', 'n', ' ', 'J', 'a', 'n', \"'\", '.']\n"
          ]
        }
      ],
      "source": [
        "str = \"2 million monthly visits in Jan'19.\"\n",
        "\n",
        "#Check if the word character does not contain any digits (numbers from 0-9):\n",
        "\n",
        "x = re.findall(\"\\D\", str)\n",
        "print(x)\n"
      ]
    },
    {
      "cell_type": "code",
      "execution_count": 35,
      "id": "ef859acd",
      "metadata": {
        "colab": {
          "base_uri": "https://localhost:8080/"
        },
        "id": "ef859acd",
        "outputId": "182a1a07-f577-4441-8bfb-b3c5c28d5ac8"
      },
      "outputs": [
        {
          "output_type": "stream",
          "name": "stdout",
          "text": [
            "['2', 'million', 'monthly', 'visits']\n"
          ]
        }
      ],
      "source": [
        "str = \"2 million monthly visits!\"\n",
        "\n",
        "#returns a match at every word character (characters from a to Z, digits from 0-9, and the underscore _ character)\n",
        "\n",
        "x = re.findall(\"\\w+\",str)\n",
        "print(x)\n"
      ]
    },
    {
      "cell_type": "code",
      "execution_count": 36,
      "id": "50739790",
      "metadata": {
        "colab": {
          "base_uri": "https://localhost:8080/"
        },
        "id": "50739790",
        "outputId": "51b1f97b-a87e-4d30-8c20-0146cec2e9e5"
      },
      "outputs": [
        {
          "output_type": "stream",
          "name": "stdout",
          "text": [
            "[' ', ' ', ' ', '!']\n"
          ]
        }
      ],
      "source": [
        "str = \"2 million monthly visits9!\"\n",
        "\n",
        "#returns a match at every NON word character (characters NOT between a and Z. Like \"!\", \"?\" white-space etc.):\n",
        "\n",
        "x = re.findall(\"\\W\", str)\n",
        "print(x)"
      ]
    },
    {
      "cell_type": "code",
      "execution_count": 37,
      "id": "c2d97194",
      "metadata": {
        "colab": {
          "base_uri": "https://localhost:8080/"
        },
        "id": "c2d97194",
        "outputId": "27b7945b-bbef-4c46-c6d5-bf2429926e1d"
      },
      "outputs": [
        {
          "output_type": "stream",
          "name": "stdout",
          "text": [
            "['ist', 'is ', 'isl', 'isl', 'is ']\n",
            "['istan', 'is a ', 'islam', 'islam', 'is ca']\n"
          ]
        }
      ],
      "source": [
        "str = \"Pakistan is a islamic and developing nation and islamabad is capital.\"\n",
        "\n",
        "#Search for a string that starts with \"is\", followed by any number of characters\n",
        "\n",
        "x = re.findall(\"is.\", str)           #searches one character after is\n",
        "x2 = re.findall(\"is...\", str)        #searches three characters after is\n",
        "\n",
        "print(x)\n",
        "print(x2)"
      ]
    },
    {
      "cell_type": "code",
      "execution_count": 38,
      "id": "75d5beb0",
      "metadata": {
        "colab": {
          "base_uri": "https://localhost:8080/"
        },
        "id": "75d5beb0",
        "outputId": "1029cc08-bb58-4f63-956b-f5c9ec834d28"
      },
      "outputs": [
        {
          "output_type": "stream",
          "name": "stdout",
          "text": [
            "['Data']\n"
          ]
        }
      ],
      "source": [
        "str = \"Data Science\"\n",
        "\n",
        "#Check if the string starts with 'Data':\n",
        "\n",
        "x = re.findall(\"^Data\", str)\n",
        "print(x)"
      ]
    },
    {
      "cell_type": "code",
      "source": [
        "str = \"Data Science\"\n",
        "\n",
        "#Check if the string ends with 'Science':\n",
        "\n",
        "x = re.findall(\"Science$\", str)\n",
        "print(x)"
      ],
      "metadata": {
        "colab": {
          "base_uri": "https://localhost:8080/"
        },
        "id": "rBxuI13iZL8-",
        "outputId": "f01c1eb9-a795-4581-8e73-f16244ca8811"
      },
      "id": "rBxuI13iZL8-",
      "execution_count": 39,
      "outputs": [
        {
          "output_type": "stream",
          "name": "stdout",
          "text": [
            "['Science']\n"
          ]
        }
      ]
    },
    {
      "cell_type": "code",
      "source": [
        "str = \"easy easssy eay ey\"\n",
        "\n",
        "#Check if the string contains \"ea\" followed by 0 or more \"s\" characters and ending with y\n",
        "\n",
        "x = re.findall(\"eas*y\", str)\n",
        "print(x)"
      ],
      "metadata": {
        "colab": {
          "base_uri": "https://localhost:8080/"
        },
        "id": "DIH1ipMxZgcM",
        "outputId": "b5b9614e-9277-4ed7-bfd7-2192ae18f389"
      },
      "id": "DIH1ipMxZgcM",
      "execution_count": 40,
      "outputs": [
        {
          "output_type": "stream",
          "name": "stdout",
          "text": [
            "['easy', 'easssy', 'eay']\n"
          ]
        }
      ]
    },
    {
      "cell_type": "code",
      "source": [
        "str = \"easy easssy eay ey\"\n",
        "\n",
        "#Check if the string contains \"ea\" followed by 0 or more \"s\" characters and ending with y\n",
        "\n",
        "x = re.findall(\"eas*y\", str)\n",
        "print(x)\n",
        "x = re.findall(\"eas+y\", str)\n",
        "print(x)\n",
        "x = re.findall(\"eas?y\",str)\n",
        "print(x)"
      ],
      "metadata": {
        "colab": {
          "base_uri": "https://localhost:8080/"
        },
        "id": "qjFNowdsaDQU",
        "outputId": "a72f16b0-5f37-480f-edac-8db0b620ffbe"
      },
      "id": "qjFNowdsaDQU",
      "execution_count": 41,
      "outputs": [
        {
          "output_type": "stream",
          "name": "stdout",
          "text": [
            "['easy', 'easssy', 'eay']\n",
            "['easy', 'easssy']\n",
            "['easy', 'eay']\n"
          ]
        }
      ]
    },
    {
      "cell_type": "code",
      "source": [
        "str = \"Pakistan is a developing nation.\"\n",
        "\n",
        "#Check if the string contains either \"data\" or \"India\":\n",
        "\n",
        "x = re.findall(\"Pakistan|nation\", str)\n",
        "print(x)"
      ],
      "metadata": {
        "colab": {
          "base_uri": "https://localhost:8080/"
        },
        "id": "TDHwwJSVai8b",
        "outputId": "dbff9ce8-6068-4bad-ccca-2e37bdf15ad0"
      },
      "id": "TDHwwJSVai8b",
      "execution_count": 42,
      "outputs": [
        {
          "output_type": "stream",
          "name": "stdout",
          "text": [
            "['Pakistan', 'nation']\n"
          ]
        }
      ]
    }
  ],
  "metadata": {
    "kernelspec": {
      "display_name": "Python 3 (ipykernel)",
      "language": "python",
      "name": "python3"
    },
    "language_info": {
      "codemirror_mode": {
        "name": "ipython",
        "version": 3
      },
      "file_extension": ".py",
      "mimetype": "text/x-python",
      "name": "python",
      "nbconvert_exporter": "python",
      "pygments_lexer": "ipython3",
      "version": "3.10.9"
    },
    "colab": {
      "provenance": [],
      "include_colab_link": true
    }
  },
  "nbformat": 4,
  "nbformat_minor": 5
}