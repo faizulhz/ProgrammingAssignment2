{
  "cells": [
    {
      "cell_type": "markdown",
      "metadata": {
        "id": "view-in-github",
        "colab_type": "text"
      },
      "source": [
        "<a href=\"https://colab.research.google.com/github/faizulhz/ProgrammingAssignment2/blob/master/restoteach.ipynb\" target=\"_parent\"><img src=\"https://colab.research.google.com/assets/colab-badge.svg\" alt=\"Open In Colab\"/></a>"
      ]
    },
    {
      "cell_type": "code",
      "execution_count": 1,
      "id": "3c71c851",
      "metadata": {
        "colab": {
          "base_uri": "https://localhost:8080/"
        },
        "id": "3c71c851",
        "outputId": "428d140d-6a1c-48ad-b882-7213f7a0dc66"
      },
      "outputs": [
        {
          "output_type": "stream",
          "name": "stdout",
          "text": [
            "None\n",
            "<re.Match object; span=(0, 5), match='hello'>\n"
          ]
        }
      ],
      "source": [
        "import re\n",
        "result= re.match(\"and\",\"hello and\")\n",
        "print(result)\n",
        "result= re.match(\"hello\",\"hello rand and cand\")\n",
        "print(result)"
      ]
    },
    {
      "cell_type": "code",
      "execution_count": 2,
      "id": "43fda2e1",
      "metadata": {
        "colab": {
          "base_uri": "https://localhost:8080/"
        },
        "id": "43fda2e1",
        "outputId": "55729021-e075-4667-ce1f-f3367d822493"
      },
      "outputs": [
        {
          "output_type": "stream",
          "name": "stdout",
          "text": [
            "<re.Match object; span=(7, 10), match='and'>\n"
          ]
        }
      ],
      "source": [
        "\n",
        "result= re.search(\"and\",\"hello rand cand and\")\n",
        "print(result)"
      ]
    },
    {
      "cell_type": "code",
      "execution_count": 3,
      "id": "4fcd4daa",
      "metadata": {
        "colab": {
          "base_uri": "https://localhost:8080/"
        },
        "id": "4fcd4daa",
        "outputId": "a768ac16-372b-424b-ec92-2587e5fef1ae"
      },
      "outputs": [
        {
          "output_type": "stream",
          "name": "stdout",
          "text": [
            "['and', 'and', 'and']\n"
          ]
        }
      ],
      "source": [
        "result= re.findall(\"and\",\"hello and rand cand\")\n",
        "print(result)"
      ]
    },
    {
      "cell_type": "code",
      "execution_count": 4,
      "id": "280a7bcd",
      "metadata": {
        "colab": {
          "base_uri": "https://localhost:8080/"
        },
        "id": "280a7bcd",
        "outputId": "79bbaf14-8602-437f-c083-f42b134d5c9b"
      },
      "outputs": [
        {
          "output_type": "stream",
          "name": "stdout",
          "text": [
            "['est']\n"
          ]
        }
      ],
      "source": [
        "str = r'\"Pakistan is a islamic and developing nation and islamabad is capital.'\n",
        "\n",
        "#Check if there is any word that ends with \"est\"\n",
        "\n",
        "x = re.findall(r\"\\bis\", str)\n",
        "print(x)"
      ]
    },
    {
      "cell_type": "code",
      "execution_count": 5,
      "id": "d0fbf894",
      "metadata": {
        "colab": {
          "base_uri": "https://localhost:8080/"
        },
        "id": "d0fbf894",
        "outputId": "2f050fc9-f80f-4df0-dc07-baec173d5fb9"
      },
      "outputs": [
        {
          "output_type": "stream",
          "name": "stdout",
          "text": [
            "['est', 'est']\n"
          ]
        }
      ],
      "source": [
        "\n",
        "str = r'\"Pakistan is a islamic and developing nation and islamabad is capital.'\n",
        "\n",
        "#Check if there is any word that ends with \"est\"\n",
        "\n",
        "x = re.findall(r\"n\\b\", str)\n",
        "print(x)"
      ]
    },
    {
      "cell_type": "code",
      "execution_count": 6,
      "id": "e9b8fa33",
      "metadata": {
        "colab": {
          "base_uri": "https://localhost:8080/"
        },
        "id": "e9b8fa33",
        "outputId": "2797300a-26c1-4a5f-b7ed-2940b2eca81d"
      },
      "outputs": [
        {
          "output_type": "stream",
          "name": "stdout",
          "text": [
            "[' ', 'm', 'i', 'l', 'l', 'i', 'o', 'n', ' ', 'm', 'o', 'n', 't', 'h', 'l', 'y', ' ', 'v', 'i', 's', 'i', 't', 's', ' ', 'i', 'n', ' ', 'J', 'a', 'n', \"'\", '.']\n"
          ]
        }
      ],
      "source": [
        "str = \"2 million monthly visits in Jan'19.\"\n",
        "\n",
        "#Check if the word character does not contain any digits (numbers from 0-9):\n",
        "\n",
        "x = re.findall(\"\\D\", str)\n",
        "print(x)\n"
      ]
    },
    {
      "cell_type": "code",
      "execution_count": 7,
      "id": "ef859acd",
      "metadata": {
        "colab": {
          "base_uri": "https://localhost:8080/"
        },
        "id": "ef859acd",
        "outputId": "7aba9290-2040-4c1e-a7f8-d4557b2802f0"
      },
      "outputs": [
        {
          "output_type": "stream",
          "name": "stdout",
          "text": [
            "['2', 'million', 'monthly', 'visits']\n"
          ]
        }
      ],
      "source": [
        "str = \"2 million monthly visits!\"\n",
        "\n",
        "#returns a match at every word character (characters from a to Z, digits from 0-9, and the underscore _ character)\n",
        "\n",
        "x = re.findall(\"\\w+\",str)\n",
        "print(x)\n"
      ]
    },
    {
      "cell_type": "code",
      "execution_count": 8,
      "id": "50739790",
      "metadata": {
        "colab": {
          "base_uri": "https://localhost:8080/"
        },
        "id": "50739790",
        "outputId": "4dd25123-6b69-4109-f156-7020513bc653"
      },
      "outputs": [
        {
          "output_type": "stream",
          "name": "stdout",
          "text": [
            "[' ', ' ', ' ', '!']\n"
          ]
        }
      ],
      "source": [
        "str = \"2 million monthly visits9!\"\n",
        "\n",
        "#returns a match at every NON word character (characters NOT between a and Z. Like \"!\", \"?\" white-space etc.):\n",
        "\n",
        "x = re.findall(\"\\W\", str)\n",
        "print(x)"
      ]
    },
    {
      "cell_type": "code",
      "execution_count": 9,
      "id": "c2d97194",
      "metadata": {
        "colab": {
          "base_uri": "https://localhost:8080/"
        },
        "id": "c2d97194",
        "outputId": "88b9f9d7-081a-4b8a-aa10-eebfd5ffef1c"
      },
      "outputs": [
        {
          "output_type": "stream",
          "name": "stdout",
          "text": [
            "['roh', 'roh']\n",
            "['rohan', 'rohit']\n"
          ]
        }
      ],
      "source": [
        "str = \"Pakistan is a islamic and developing nation and islamabad is capital.\"\n",
        "\n",
        "#Search for a string that starts with \"ro\", followed by any number of characters\n",
        "\n",
        "x = re.findall(\"ro.\", str)           #searches one character after ro\n",
        "x2 = re.findall(\"ro...\", str)        #searches three characters after ro\n",
        "\n",
        "print(x)\n",
        "print(x2)"
      ]
    },
    {
      "cell_type": "code",
      "execution_count": 10,
      "id": "75d5beb0",
      "metadata": {
        "colab": {
          "base_uri": "https://localhost:8080/"
        },
        "id": "75d5beb0",
        "outputId": "481724e2-9a8c-492e-d74b-eb14099a9051"
      },
      "outputs": [
        {
          "output_type": "stream",
          "name": "stdout",
          "text": [
            "['Data']\n"
          ]
        }
      ],
      "source": [
        "str = \"Data Science\"\n",
        "\n",
        "#Check if the string starts with 'Data':\n",
        "\n",
        "x = re.findall(\"^Data\", str)\n",
        "print(x)"
      ]
    },
    {
      "cell_type": "code",
      "source": [
        "str = \"Data Science\"\n",
        "\n",
        "#Check if the string ends with 'Science':\n",
        "\n",
        "x = re.findall(\"Science$\", str)\n",
        "print(x)"
      ],
      "metadata": {
        "colab": {
          "base_uri": "https://localhost:8080/"
        },
        "id": "rBxuI13iZL8-",
        "outputId": "f5be8aba-c6f0-4851-bb91-c0cb1e280b87"
      },
      "id": "rBxuI13iZL8-",
      "execution_count": 11,
      "outputs": [
        {
          "output_type": "stream",
          "name": "stdout",
          "text": [
            "['Science']\n"
          ]
        }
      ]
    },
    {
      "cell_type": "code",
      "source": [
        "str = \"easy easssy eay ey\"\n",
        "\n",
        "#Check if the string contains \"ea\" followed by 0 or more \"s\" characters and ending with y\n",
        "\n",
        "x = re.findall(\"eas*y\", str)\n",
        "print(x)"
      ],
      "metadata": {
        "colab": {
          "base_uri": "https://localhost:8080/"
        },
        "id": "DIH1ipMxZgcM",
        "outputId": "f71c3527-6634-42c4-8951-35606676728d"
      },
      "id": "DIH1ipMxZgcM",
      "execution_count": 12,
      "outputs": [
        {
          "output_type": "stream",
          "name": "stdout",
          "text": [
            "['easy', 'easssy', 'eay']\n"
          ]
        }
      ]
    },
    {
      "cell_type": "code",
      "source": [
        "str = \"easy easssy eay ey\"\n",
        "\n",
        "#Check if the string contains \"ea\" followed by 0 or more \"s\" characters and ending with y\n",
        "\n",
        "x = re.findall(\"eas*y\", str)\n",
        "print(x)\n",
        "x = re.findall(\"eas+y\", str)\n",
        "print(x)\n",
        "x = re.findall(\"eas?y\",str)\n",
        "print(x)"
      ],
      "metadata": {
        "id": "qjFNowdsaDQU"
      },
      "id": "qjFNowdsaDQU",
      "execution_count": null,
      "outputs": []
    },
    {
      "cell_type": "code",
      "source": [
        "str = \"Pakistan is a developing nation.\"\n",
        "\n",
        "#Check if the string contains either \"data\" or \"India\":\n",
        "\n",
        "x = re.findall(\"Pakistan|nation\", str)\n",
        "print(x)"
      ],
      "metadata": {
        "colab": {
          "base_uri": "https://localhost:8080/"
        },
        "id": "TDHwwJSVai8b",
        "outputId": "efb57c3b-b2af-4faa-963e-31ea18dc9801"
      },
      "id": "TDHwwJSVai8b",
      "execution_count": 14,
      "outputs": [
        {
          "output_type": "stream",
          "name": "stdout",
          "text": [
            "['Pakistan']\n"
          ]
        }
      ]
    }
  ],
  "metadata": {
    "kernelspec": {
      "display_name": "Python 3 (ipykernel)",
      "language": "python",
      "name": "python3"
    },
    "language_info": {
      "codemirror_mode": {
        "name": "ipython",
        "version": 3
      },
      "file_extension": ".py",
      "mimetype": "text/x-python",
      "name": "python",
      "nbconvert_exporter": "python",
      "pygments_lexer": "ipython3",
      "version": "3.10.9"
    },
    "colab": {
      "provenance": [],
      "include_colab_link": true
    }
  },
  "nbformat": 4,
  "nbformat_minor": 5
}