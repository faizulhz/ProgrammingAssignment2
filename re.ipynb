{
  "nbformat": 4,
  "nbformat_minor": 0,
  "metadata": {
    "colab": {
      "provenance": [],
      "authorship_tag": "ABX9TyMHbeRes1ycDNLDkxnaZDql",
      "include_colab_link": true
    },
    "kernelspec": {
      "name": "python3",
      "display_name": "Python 3"
    },
    "language_info": {
      "name": "python"
    }
  },
  "cells": [
    {
      "cell_type": "markdown",
      "metadata": {
        "id": "view-in-github",
        "colab_type": "text"
      },
      "source": [
        "<a href=\"https://colab.research.google.com/github/faizulhz/ProgrammingAssignment2/blob/master/re.ipynb\" target=\"_parent\"><img src=\"https://colab.research.google.com/assets/colab-badge.svg\" alt=\"Open In Colab\"/></a>"
      ]
    },
    {
      "cell_type": "code",
      "execution_count": null,
      "metadata": {
        "id": "1zMo0e0mVp_P"
      },
      "outputs": [],
      "source": [
        "import re\n",
        "result= re.match(\"and\",\"hello and\")\n",
        "print(result)\n",
        "result= re.match(\"hello\",\"hello rand and cand\")\n",
        "print(result)"
      ]
    },
    {
      "cell_type": "markdown",
      "source": [],
      "metadata": {
        "id": "aiWKwBMAV9cd"
      }
    },
    {
      "cell_type": "code",
      "source": [
        "\n",
        "result= re.search(\"and\",\"hello rand cand and\")\n",
        "print(result)"
      ],
      "metadata": {
        "id": "Wc62ZtC9V9xF"
      },
      "execution_count": null,
      "outputs": []
    },
    {
      "cell_type": "markdown",
      "source": [],
      "metadata": {
        "id": "9jcgTFtqWHWM"
      }
    },
    {
      "cell_type": "code",
      "source": [
        "str = r'Analytics Vidhya is the largest Analytics community of India'\n",
        "\n",
        "#Check if there is any word that ends with \"est\"\n",
        "\n",
        "x = re.findall(r\"est\\b\", str)\n",
        "print(x)"
      ],
      "metadata": {
        "id": "dcKsR1hiWHo8"
      },
      "execution_count": null,
      "outputs": []
    },
    {
      "cell_type": "markdown",
      "source": [],
      "metadata": {
        "id": "B7N8Jzt_WWjb"
      }
    },
    {
      "cell_type": "code",
      "source": [
        "\n",
        "str = r'Analytics Vidhestya is the largest Analytics est community of India'\n",
        "\n",
        "#Check if there is any word that ends with \"est\"\n",
        "\n",
        "x = re.findall(r\"est\\b\", str)\n",
        "print(x)"
      ],
      "metadata": {
        "id": "1o_B617hWXC6"
      },
      "execution_count": null,
      "outputs": []
    },
    {
      "cell_type": "markdown",
      "source": [],
      "metadata": {
        "id": "9yOPFgZmWjVj"
      }
    },
    {
      "cell_type": "code",
      "source": [],
      "metadata": {
        "id": "BKcOt0bwWjpb"
      },
      "execution_count": null,
      "outputs": []
    }
  ]
}